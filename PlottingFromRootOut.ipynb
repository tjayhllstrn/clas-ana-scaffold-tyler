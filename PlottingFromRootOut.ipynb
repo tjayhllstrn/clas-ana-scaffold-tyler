{
 "cells": [
  {
   "cell_type": "code",
   "execution_count": 2,
   "id": "6ac529e5-a32b-4437-953d-b1f0bc2b5d7a",
   "metadata": {},
   "outputs": [],
   "source": [
    "import ROOT"
   ]
  },
  {
   "cell_type": "markdown",
   "id": "a8189a23-b899-4289-9cc7-4456bdcb5f09",
   "metadata": {},
   "source": [
    "## Reading one Hipo File"
   ]
  },
  {
   "cell_type": "code",
   "execution_count": 18,
   "id": "bb7cdff7-a0f7-493c-824e-55acc52e70b9",
   "metadata": {
    "scrolled": true
   },
   "outputs": [
    {
     "name": "stdout",
     "output_type": "stream",
     "text": [
      "TFile**\t\tout/test_pippim/nSidis_005036.root\t\n",
      " TFile*\t\tout/test_pippim/nSidis_005036.root\t\n",
      "  KEY: TTree\tEventTree;3\tEventTree [current cycle]\n",
      "  KEY: TTree\tEventTree;2\tEventTree [backup cycle]\n",
      "  KEY: TTree\tpippim;1\tTree\n"
     ]
    }
   ],
   "source": [
    "f = ROOT.TFile(\"out/test_pippim/nSidis_005036.root\")\n",
    "f.ls()"
   ]
  },
  {
   "cell_type": "code",
   "execution_count": 19,
   "id": "8d82f80f-05ba-41ec-b664-c2691d406820",
   "metadata": {},
   "outputs": [
    {
     "data": {
      "text/plain": [
       "['hel',\n",
       " 'run',\n",
       " 'x',\n",
       " 'eps',\n",
       " 'gamma',\n",
       " 'x_true',\n",
       " 'Q2',\n",
       " 'Q2_true',\n",
       " 'z',\n",
       " 'pT',\n",
       " 'xF',\n",
       " 'xF1',\n",
       " 'xF2',\n",
       " 'phi',\n",
       " 'Mx',\n",
       " 'Mh',\n",
       " 'z_true',\n",
       " 'pT_true',\n",
       " 'xF_true',\n",
       " 'xF1_true',\n",
       " 'xF2_true',\n",
       " 'phi_true',\n",
       " 'Mx_true',\n",
       " 'Mh_true']"
      ]
     },
     "execution_count": 19,
     "metadata": {},
     "output_type": "execute_result"
    }
   ],
   "source": [
    "t = f.Get(\"pippim\")\n",
    "[b.GetName() for b in t.GetListOfBranches()]"
   ]
  },
  {
   "cell_type": "code",
   "execution_count": 20,
   "id": "b1d49275-c55e-4078-bbf7-92dbde5647c3",
   "metadata": {},
   "outputs": [
    {
     "data": {
      "image/png": "[encoded data removed]",
      "text/plain": [
       "<IPython.core.display.Image object>"
      ]
     },
     "metadata": {},
     "output_type": "display_data"
    }
   ],
   "source": [
    "c = ROOT.TCanvas()\n",
    "t.Draw(\"Mh>>h(100,0,2)\")\n",
    "c.Draw()"
   ]
  },
  {
   "cell_type": "code",
   "execution_count": 21,
   "id": "92d81ab9-d0c0-4e1f-88df-f1b3fab871c8",
   "metadata": {},
   "outputs": [
    {
     "data": {
      "image/png": "[encoded data removed]",
      "text/plain": [
       "<IPython.core.display.Image object>"
      ]
     },
     "metadata": {},
     "output_type": "display_data"
    }
   ],
   "source": [
    "t.Draw(\"Mx>>h(100,0,3)\")\n",
    "c.Draw()"
   ]
  },
  {
   "cell_type": "code",
   "execution_count": 22,
   "id": "477b1051-21b9-492a-ad0a-938b7be845ea",
   "metadata": {},
   "outputs": [
    {
     "data": {
      "image/png": "[encoded data removed]",
      "text/plain": [
       "<IPython.core.display.Image object>"
      ]
     },
     "metadata": {},
     "output_type": "display_data"
    }
   ],
   "source": [
    "t.Draw(\"Mx>>h(100,0,3)\")\n",
    "c.Draw()"
   ]
  },
  {
   "cell_type": "markdown",
   "id": "39ba0042-7f01-444c-bc7c-92f8e476441b",
   "metadata": {},
   "source": [
    "## Reading Multiple Hipo Files"
   ]
  },
  {
   "cell_type": "code",
   "execution_count": 8,
   "id": "4704f4b9-cfd7-46ac-b34c-6b9e5fb7c94e",
   "metadata": {},
   "outputs": [],
   "source": [
    "import os\n",
    "\n",
    "def list_root_files(directory):\n",
    "    root_files = []\n",
    "    for filename in os.listdir(directory):\n",
    "        if filename.endswith('.root'):\n",
    "            root_files.append(filename)\n",
    "    return root_files\n"
   ]
  },
  {
   "cell_type": "code",
   "execution_count": 9,
   "id": "56b7a99b-3e3b-4bbe-9e4f-fff041a0c807",
   "metadata": {},
   "outputs": [],
   "source": [
    "files = list_root_files(\"out/test_pippim\")"
   ]
  },
  {
   "cell_type": "code",
   "execution_count": 60,
   "id": "fbbd0212-46b2-41fe-8808-8cc0e9df4224",
   "metadata": {},
   "outputs": [],
   "source": [
    "chain = ROOT.TChain(\"pippim\")\n",
    "\n",
    "for file in files:\n",
    "    chain.AddFile(\"out/test_pippim/\"+file)\n"
   ]
  },
  {
   "cell_type": "code",
   "execution_count": 61,
   "id": "19306407-f6d5-4031-b155-812335d01607",
   "metadata": {},
   "outputs": [
    {
     "data": {
      "text/plain": [
       "['A',\n",
       " 'evnum',\n",
       " 'uID',\n",
       " 'run',\n",
       " 'Pol',\n",
       " 'tPol',\n",
       " 'hwp',\n",
       " 'target',\n",
       " 'tSign',\n",
       " 'Nmax',\n",
       " 'x',\n",
       " 'y',\n",
       " 'W',\n",
       " 'Q2',\n",
       " 'nu',\n",
       " 'truex',\n",
       " 'truey',\n",
       " 'trueQ2',\n",
       " 'trueW',\n",
       " 'truenu',\n",
       " 'hel',\n",
       " 'truex',\n",
       " 'truey',\n",
       " 'trueW',\n",
       " 'truenu',\n",
       " 'pindex',\n",
       " 'status',\n",
       " 'px',\n",
       " 'py',\n",
       " 'pz',\n",
       " 'p',\n",
       " 'E',\n",
       " 'pid',\n",
       " 'vx',\n",
       " 'vy',\n",
       " 'vz',\n",
       " 'chi2',\n",
       " 'beta',\n",
       " 'm',\n",
       " 'theta',\n",
       " 'eta',\n",
       " 'phi',\n",
       " 'truepx',\n",
       " 'truepy',\n",
       " 'truepz',\n",
       " 'truep',\n",
       " 'truept',\n",
       " 'truem',\n",
       " 'truetheta',\n",
       " 'trueeta',\n",
       " 'truephi',\n",
       " 'truevx',\n",
       " 'truevy',\n",
       " 'truevz',\n",
       " 'trueE',\n",
       " 'is_CFR',\n",
       " 'truepid',\n",
       " 'trueparentid',\n",
       " 'trueparentpid',\n",
       " 'trueparentparentid',\n",
       " 'trueparentparentpid',\n",
       " 'pcal_sector',\n",
       " 'pcal_e',\n",
       " 'pcal_x',\n",
       " 'pcal_y',\n",
       " 'pcal_z',\n",
       " 'pcal_lu',\n",
       " 'pcal_lv',\n",
       " 'pcal_lw',\n",
       " 'pcal_m2u',\n",
       " 'pcal_m2v',\n",
       " 'pcal_m2w',\n",
       " 'ecin_sector',\n",
       " 'ecin_e',\n",
       " 'ecin_x',\n",
       " 'ecin_y',\n",
       " 'ecin_z',\n",
       " 'ecin_lu',\n",
       " 'ecin_lv',\n",
       " 'ecin_lw',\n",
       " 'ecin_m2u',\n",
       " 'ecin_m2v',\n",
       " 'ecin_m2w',\n",
       " 'ecout_sector',\n",
       " 'ecout_e',\n",
       " 'ecout_x',\n",
       " 'ecout_y',\n",
       " 'ecout_z',\n",
       " 'ecout_lu',\n",
       " 'ecout_lv',\n",
       " 'ecout_lw',\n",
       " 'ecout_m2u',\n",
       " 'ecout_m2v',\n",
       " 'ecout_m2w',\n",
       " 'sector',\n",
       " 'traj_x1',\n",
       " 'traj_y1',\n",
       " 'traj_z1',\n",
       " 'traj_x2',\n",
       " 'traj_y2',\n",
       " 'traj_z2',\n",
       " 'traj_x3',\n",
       " 'traj_y3',\n",
       " 'traj_z3',\n",
       " 'nphe_ltcc',\n",
       " 'nphe_htcc']"
      ]
     },
     "execution_count": 61,
     "metadata": {},
     "output_type": "execute_result"
    }
   ],
   "source": [
    "[b.GetName() for b in chain.GetListOfBranches()]"
   ]
  },
  {
   "cell_type": "code",
   "execution_count": 31,
   "id": "b5ef8496-a265-4e3f-a0db-b913592be7da",
   "metadata": {},
   "outputs": [],
   "source": [
    "#Defining a missing mass cut to get rid of the hump in Mh that is not corresponding to rho's\n",
    "MxCut1=ROOT.TCut(\"Mx<1.1\")\n",
    "MxCut2=ROOT.TCut(\"Mx>0.8\")"
   ]
  },
  {
   "cell_type": "code",
   "execution_count": 54,
   "id": "2e484bec-3e8d-420b-84b5-39ba38baec07",
   "metadata": {},
   "outputs": [
    {
     "data": {
      "image/png": "[encoded data removed]",
      "text/plain": [
       "<IPython.core.display.Image object>"
      ]
     },
     "metadata": {},
     "output_type": "display_data"
    }
   ],
   "source": [
    "c = ROOT.TCanvas()\n",
    "chain.Draw(\"Mx>>h(900,0,3)\",\"Mx<1.05 && 0.8<Mx\",\"\")\n",
    "c.Draw()"
   ]
  },
  {
   "cell_type": "code",
   "execution_count": 64,
   "id": "c2ecb4ce-f230-4421-b636-7b24b20ab45d",
   "metadata": {},
   "outputs": [
    {
     "data": {
      "image/png": "[encoded data removed]",
      "text/plain": [
       "<IPython.core.display.Image object>"
      ]
     },
     "metadata": {},
     "output_type": "display_data"
    }
   ],
   "source": [
    "c = ROOT.TCanvas()\n",
    "chain.Draw(\"W>>h(500,1,5)\")#,\"0.8<Mx&&Mx<1.05\",\"\")\n",
    "c.Draw()"
   ]
  },
  {
   "cell_type": "code",
   "execution_count": 59,
   "id": "0629685d-4169-46af-875f-905a7720e9a8",
   "metadata": {},
   "outputs": [
    {
     "name": "stderr",
     "output_type": "stream",
     "text": [
      "Error in <TTreeFormula::Compile>:  Bad numerical expression : \"W\"\n",
      "Info in <TSelectorDraw::AbortProcess>: Variable compilation failed: {W,0.8<Mx&&Mx<1.05}\n"
     ]
    },
    {
     "data": {
      "image/png": "[encoded data removed]",
      "text/plain": [
       "<IPython.core.display.Image object>"
      ]
     },
     "metadata": {},
     "output_type": "display_data"
    }
   ],
   "source": [
    "c = ROOT.TCanvas()\n",
    "chain.Draw(\"W>>h(1500,0,2)\",\"0.8<Mx&&Mx<1.05\",\"\")\n",
    "c.Draw()"
   ]
  },
  {
   "cell_type": "code",
   "execution_count": 16,
   "id": "1840cc7d-7a4e-4eb4-b7fa-0977f4be4500",
   "metadata": {},
   "outputs": [
    {
     "data": {
      "image/png": "[encoded data removed]",
      "text/plain": [
       "<IPython.core.display.Image object>"
      ]
     },
     "metadata": {},
     "output_type": "display_data"
    }
   ],
   "source": [
    "c = ROOT.TCanvas()\n",
    "chain.Draw(\"x>>h(900,0,1)\")\n",
    "c.Draw()"
   ]
  },
  {
   "cell_type": "code",
   "execution_count": null,
   "id": "0bf470cb-1b97-4da1-9f52-efb975800618",
   "metadata": {},
   "outputs": [],
   "source": []
  },
  {
   "cell_type": "code",
   "execution_count": null,
   "id": "e341adb1-a5ba-4a4d-8d0f-38397289a820",
   "metadata": {},
   "outputs": [],
   "source": []
  }
 ],
 "metadata": {
  "kernelspec": {
   "display_name": "Python 3 (ipykernel)",
   "language": "python",
   "name": "python3"
  },
  "language_info": {
   "codemirror_mode": {
    "name": "ipython",
    "version": 3
   },
   "file_extension": ".py",
   "mimetype": "text/x-python",
   "name": "python",
   "nbconvert_exporter": "python",
   "pygments_lexer": "ipython3",
   "version": "3.11.9"
  }
 },
 "nbformat": 4,
 "nbformat_minor": 5
}
